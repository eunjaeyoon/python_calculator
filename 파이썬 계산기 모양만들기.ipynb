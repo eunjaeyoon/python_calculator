{
 "cells": [
  {
   "cell_type": "code",
   "execution_count": 416,
   "id": "21e622c9",
   "metadata": {},
   "outputs": [],
   "source": [
    "from tkinter import *"
   ]
  },
  {
   "cell_type": "code",
   "execution_count": 417,
   "id": "8e5f0542",
   "metadata": {},
   "outputs": [],
   "source": [
    "from tkinter import ttk"
   ]
  },
  {
   "cell_type": "code",
   "execution_count": null,
   "id": "894a6da2",
   "metadata": {},
   "outputs": [],
   "source": []
  },
  {
   "cell_type": "code",
   "execution_count": 418,
   "id": "f36a46fa",
   "metadata": {},
   "outputs": [],
   "source": [
    "#함수 추가."
   ]
  },
  {
   "cell_type": "code",
   "execution_count": 419,
   "id": "246df204",
   "metadata": {},
   "outputs": [],
   "source": [
    "def button_pressed(value):\n",
    "    # 텍스트 창으로 숫자 전송. 'end'는 오른쪽끝에 추가 하라는 의미.\n",
    "    number_entry.insert(\"end\",value) \n",
    "    print(value,\"pressed\")"
   ]
  },
  {
   "cell_type": "code",
   "execution_count": null,
   "id": "a977e4c1",
   "metadata": {},
   "outputs": [],
   "source": []
  },
  {
   "cell_type": "code",
   "execution_count": 420,
   "id": "1273c3dd",
   "metadata": {},
   "outputs": [],
   "source": [
    "def math_button_pressed(value):\n",
    "    print(value,\"pressed\")"
   ]
  },
  {
   "cell_type": "code",
   "execution_count": null,
   "id": "0b59564b",
   "metadata": {},
   "outputs": [],
   "source": []
  },
  {
   "cell_type": "code",
   "execution_count": 421,
   "id": "4623f693",
   "metadata": {},
   "outputs": [],
   "source": [
    "def equal_button_pressed():\n",
    "    print(\"equal pressed\")"
   ]
  },
  {
   "cell_type": "code",
   "execution_count": null,
   "id": "8f376b84",
   "metadata": {},
   "outputs": [],
   "source": []
  },
  {
   "cell_type": "code",
   "execution_count": 422,
   "id": "60e6893b",
   "metadata": {},
   "outputs": [],
   "source": [
    "root = Tk()"
   ]
  },
  {
   "cell_type": "code",
   "execution_count": 423,
   "id": "78cb9dba",
   "metadata": {},
   "outputs": [
    {
     "data": {
      "text/plain": [
       "''"
      ]
     },
     "execution_count": 423,
     "metadata": {},
     "output_type": "execute_result"
    }
   ],
   "source": [
    "root.title(\"calculator\")"
   ]
  },
  {
   "cell_type": "code",
   "execution_count": 424,
   "id": "4ea138f1",
   "metadata": {},
   "outputs": [
    {
     "data": {
      "text/plain": [
       "''"
      ]
     },
     "execution_count": 424,
     "metadata": {},
     "output_type": "execute_result"
    }
   ],
   "source": [
    "root.geometry(\"300x200\") #화면폭에 맞춰서 눌러줌."
   ]
  },
  {
   "cell_type": "code",
   "execution_count": 425,
   "id": "d8750224",
   "metadata": {},
   "outputs": [],
   "source": [
    "#텍스트창의 값 저장할 변수."
   ]
  },
  {
   "cell_type": "code",
   "execution_count": 426,
   "id": "aa2d3227",
   "metadata": {},
   "outputs": [],
   "source": [
    "entry_value = StringVar(root,value = '')"
   ]
  },
  {
   "cell_type": "code",
   "execution_count": 427,
   "id": "2e9e38bd",
   "metadata": {},
   "outputs": [],
   "source": [
    "#textvariable 속성으로 변수 설정."
   ]
  },
  {
   "cell_type": "code",
   "execution_count": 428,
   "id": "8b99fa13",
   "metadata": {},
   "outputs": [],
   "source": [
    "number_entry = ttk.Entry(root,textvariable = entry_value, width=20)"
   ]
  },
  {
   "cell_type": "code",
   "execution_count": 429,
   "id": "2d9d741c",
   "metadata": {},
   "outputs": [],
   "source": [
    "number_entry.grid(row=0,columnspan=3) #columnspan 은 여러칸에 걸쳐서 표시함"
   ]
  },
  {
   "cell_type": "code",
   "execution_count": null,
   "id": "e521eb16",
   "metadata": {},
   "outputs": [],
   "source": []
  },
  {
   "cell_type": "code",
   "execution_count": 430,
   "id": "6bd1c8f7",
   "metadata": {},
   "outputs": [],
   "source": [
    "button7 = ttk.Button(root, text=\"7\", command = lambda:button_pressed('7'))"
   ]
  },
  {
   "cell_type": "code",
   "execution_count": 431,
   "id": "e5535dca",
   "metadata": {},
   "outputs": [],
   "source": [
    "button7.grid(row = 1, column = 0)"
   ]
  },
  {
   "cell_type": "code",
   "execution_count": 432,
   "id": "1a78bec9",
   "metadata": {},
   "outputs": [],
   "source": [
    "button8 = ttk.Button(root, text=\"8\", command = lambda:button_pressed('8'))"
   ]
  },
  {
   "cell_type": "code",
   "execution_count": 433,
   "id": "ac8711e7",
   "metadata": {},
   "outputs": [],
   "source": [
    "button8.grid(row = 1, column = 1)"
   ]
  },
  {
   "cell_type": "code",
   "execution_count": 434,
   "id": "ebd99eba",
   "metadata": {},
   "outputs": [],
   "source": [
    "button9 = ttk.Button(root, text=\"9\", command = lambda:button_pressed('9'))"
   ]
  },
  {
   "cell_type": "code",
   "execution_count": 435,
   "id": "1735dfdc",
   "metadata": {},
   "outputs": [],
   "source": [
    "button9.grid(row = 1, column = 2)"
   ]
  },
  {
   "cell_type": "code",
   "execution_count": 436,
   "id": "040d5c02",
   "metadata": {},
   "outputs": [],
   "source": [
    "#나누기 버튼 -> math_button_pressed() 로 연결."
   ]
  },
  {
   "cell_type": "code",
   "execution_count": 437,
   "id": "0b1a3974",
   "metadata": {},
   "outputs": [],
   "source": [
    "button_div = ttk.Button(root, text=\"/\", command = lambda:math_button_pressed('/'))"
   ]
  },
  {
   "cell_type": "code",
   "execution_count": 438,
   "id": "20832bc4",
   "metadata": {},
   "outputs": [],
   "source": [
    "button_div.grid(row = 1, column = 3)"
   ]
  },
  {
   "cell_type": "code",
   "execution_count": 439,
   "id": "75c5e0d1",
   "metadata": {},
   "outputs": [],
   "source": [
    "button4 = ttk.Button(root, text=\"4\", command = lambda:button_pressed('4'))"
   ]
  },
  {
   "cell_type": "code",
   "execution_count": 440,
   "id": "4c9daef2",
   "metadata": {},
   "outputs": [],
   "source": [
    "button4.grid(row = 2, column = 0)"
   ]
  },
  {
   "cell_type": "code",
   "execution_count": 441,
   "id": "10306f22",
   "metadata": {},
   "outputs": [],
   "source": [
    "button5 = ttk.Button(root, text=\"5\", command = lambda:button_pressed('5'))"
   ]
  },
  {
   "cell_type": "code",
   "execution_count": 442,
   "id": "73a817e9",
   "metadata": {},
   "outputs": [],
   "source": [
    "button5.grid(row = 2, column =1)"
   ]
  },
  {
   "cell_type": "code",
   "execution_count": 443,
   "id": "d72362aa",
   "metadata": {},
   "outputs": [],
   "source": [
    "button6 = ttk.Button(root, text=\"6\", command = lambda:button_pressed('6'))"
   ]
  },
  {
   "cell_type": "code",
   "execution_count": 444,
   "id": "70dab2ff",
   "metadata": {},
   "outputs": [],
   "source": [
    "button6.grid(row = 2, column =2)"
   ]
  },
  {
   "cell_type": "code",
   "execution_count": 445,
   "id": "389f0656",
   "metadata": {},
   "outputs": [],
   "source": [
    "button_mult = ttk.Button(root, text=\"*\",command = lambda:math_button_pressed('*'))"
   ]
  },
  {
   "cell_type": "code",
   "execution_count": 446,
   "id": "d8cba4ae",
   "metadata": {},
   "outputs": [],
   "source": [
    "button_mult.grid(row=2, column=3)"
   ]
  },
  {
   "cell_type": "code",
   "execution_count": 447,
   "id": "8abd2467",
   "metadata": {},
   "outputs": [],
   "source": [
    "# command에 함수 연결, 전달값은 버튼의 숫자 '1'"
   ]
  },
  {
   "cell_type": "code",
   "execution_count": 448,
   "id": "5e6b0df8",
   "metadata": {},
   "outputs": [],
   "source": [
    "button1 = ttk.Button(root, text=\"1\", command = lambda:button_pressed('1'))"
   ]
  },
  {
   "cell_type": "code",
   "execution_count": 449,
   "id": "3adcbbfd",
   "metadata": {},
   "outputs": [],
   "source": [
    "button1.grid(row=3, column=0)"
   ]
  },
  {
   "cell_type": "code",
   "execution_count": 450,
   "id": "12be743f",
   "metadata": {},
   "outputs": [],
   "source": [
    "button2 = ttk.Button(root, text=\"2\", command = lambda:button_pressed('2'))"
   ]
  },
  {
   "cell_type": "code",
   "execution_count": 451,
   "id": "297917e3",
   "metadata": {},
   "outputs": [],
   "source": [
    "button2.grid(row=3, column=1)"
   ]
  },
  {
   "cell_type": "code",
   "execution_count": 452,
   "id": "159de3c8",
   "metadata": {},
   "outputs": [],
   "source": [
    "button3 = ttk.Button(root, text=\"3\", command = lambda:button_pressed('3'))"
   ]
  },
  {
   "cell_type": "code",
   "execution_count": 453,
   "id": "577266bf",
   "metadata": {},
   "outputs": [],
   "source": [
    "button3.grid(row = 3, column =2)"
   ]
  },
  {
   "cell_type": "code",
   "execution_count": 454,
   "id": "025efac3",
   "metadata": {},
   "outputs": [],
   "source": [
    "button_add = ttk.Button(root, text='+',command = lambda:math_button_pressed('+'))"
   ]
  },
  {
   "cell_type": "code",
   "execution_count": 455,
   "id": "7fb82656",
   "metadata": {},
   "outputs": [],
   "source": [
    "button_add.grid(row=3,column=3)"
   ]
  },
  {
   "cell_type": "code",
   "execution_count": 456,
   "id": "d4389f6f",
   "metadata": {},
   "outputs": [],
   "source": [
    "#마지막줄 AC,0,=,- 버튼추가"
   ]
  },
  {
   "cell_type": "code",
   "execution_count": 457,
   "id": "8d8007b3",
   "metadata": {},
   "outputs": [],
   "source": [
    "#-버튼 -> math_button_pressed() 로 연결."
   ]
  },
  {
   "cell_type": "code",
   "execution_count": 458,
   "id": "dd48f9a2",
   "metadata": {},
   "outputs": [],
   "source": [
    "#AC,0버튼 -> button_pressed()로 연결"
   ]
  },
  {
   "cell_type": "code",
   "execution_count": 459,
   "id": "38c5de08",
   "metadata": {},
   "outputs": [],
   "source": [
    "#= qjxms -> equal_button_pressed()로 연결"
   ]
  },
  {
   "cell_type": "code",
   "execution_count": 460,
   "id": "cad91d74",
   "metadata": {},
   "outputs": [],
   "source": [
    "button_ac = ttk.Button(root, text=\"AC\", command = lambda:button_pressed('AC'))"
   ]
  },
  {
   "cell_type": "code",
   "execution_count": 461,
   "id": "eb4d04ed",
   "metadata": {},
   "outputs": [],
   "source": [
    "button_ac.grid(row=4, column=0)"
   ]
  },
  {
   "cell_type": "code",
   "execution_count": 462,
   "id": "f9ceddda",
   "metadata": {},
   "outputs": [],
   "source": [
    "button0 = ttk.Button(root,text=\"0\",command = lambda:button_pressed('0'))"
   ]
  },
  {
   "cell_type": "code",
   "execution_count": 463,
   "id": "e6e0c087",
   "metadata": {},
   "outputs": [],
   "source": [
    "button0.grid(row=4,column=1)"
   ]
  },
  {
   "cell_type": "code",
   "execution_count": 464,
   "id": "58afb9af",
   "metadata": {},
   "outputs": [],
   "source": [
    "button_equal = ttk.Button(root,text=\"=\",command = lambda:equal_button_pressed())"
   ]
  },
  {
   "cell_type": "code",
   "execution_count": 465,
   "id": "4a521d28",
   "metadata": {},
   "outputs": [],
   "source": [
    "button_equal.grid(row=4,column=2)"
   ]
  },
  {
   "cell_type": "code",
   "execution_count": 466,
   "id": "b9f1ba0f",
   "metadata": {},
   "outputs": [],
   "source": [
    "button_sub = ttk.Button(root, text=\"-\", command = lambda:math_button_pressed(\"-\"))"
   ]
  },
  {
   "cell_type": "code",
   "execution_count": 467,
   "id": "19d244d4",
   "metadata": {},
   "outputs": [],
   "source": [
    "button_sub.grid(row=4, column=3)"
   ]
  },
  {
   "cell_type": "code",
   "execution_count": 468,
   "id": "c9e9b584",
   "metadata": {},
   "outputs": [
    {
     "name": "stdout",
     "output_type": "stream",
     "text": [
      "2 pressed\n",
      "+ pressed\n",
      "3 pressed\n",
      "- pressed\n",
      "1 pressed\n",
      "AC pressed\n",
      "equal pressed\n",
      "0 pressed\n",
      "/ pressed\n",
      "* pressed\n",
      "+ pressed\n",
      "- pressed\n"
     ]
    }
   ],
   "source": [
    "root.mainloop()"
   ]
  },
  {
   "cell_type": "code",
   "execution_count": null,
   "id": "b1853666",
   "metadata": {},
   "outputs": [],
   "source": []
  },
  {
   "cell_type": "code",
   "execution_count": null,
   "id": "dc17ada4",
   "metadata": {},
   "outputs": [],
   "source": []
  },
  {
   "cell_type": "code",
   "execution_count": null,
   "id": "1ebe3bea",
   "metadata": {},
   "outputs": [],
   "source": []
  },
  {
   "cell_type": "code",
   "execution_count": null,
   "id": "530772b4",
   "metadata": {},
   "outputs": [],
   "source": []
  },
  {
   "cell_type": "code",
   "execution_count": null,
   "id": "080c21d8",
   "metadata": {},
   "outputs": [],
   "source": []
  },
  {
   "cell_type": "code",
   "execution_count": null,
   "id": "fa6b5ff2",
   "metadata": {},
   "outputs": [],
   "source": []
  },
  {
   "cell_type": "code",
   "execution_count": null,
   "id": "b505fb78",
   "metadata": {},
   "outputs": [],
   "source": []
  },
  {
   "cell_type": "code",
   "execution_count": null,
   "id": "e2d10af2",
   "metadata": {},
   "outputs": [],
   "source": []
  },
  {
   "cell_type": "code",
   "execution_count": null,
   "id": "fab5c4b9",
   "metadata": {},
   "outputs": [],
   "source": []
  },
  {
   "cell_type": "code",
   "execution_count": null,
   "id": "5adeada6",
   "metadata": {},
   "outputs": [],
   "source": []
  },
  {
   "cell_type": "code",
   "execution_count": null,
   "id": "016471fb",
   "metadata": {},
   "outputs": [],
   "source": []
  },
  {
   "cell_type": "code",
   "execution_count": null,
   "id": "79516f3b",
   "metadata": {},
   "outputs": [],
   "source": []
  },
  {
   "cell_type": "code",
   "execution_count": null,
   "id": "68addae0",
   "metadata": {},
   "outputs": [],
   "source": []
  },
  {
   "cell_type": "code",
   "execution_count": null,
   "id": "131069ce",
   "metadata": {},
   "outputs": [],
   "source": []
  },
  {
   "cell_type": "code",
   "execution_count": null,
   "id": "00214b7c",
   "metadata": {},
   "outputs": [],
   "source": []
  },
  {
   "cell_type": "code",
   "execution_count": null,
   "id": "077d41dc",
   "metadata": {},
   "outputs": [],
   "source": []
  },
  {
   "cell_type": "code",
   "execution_count": null,
   "id": "4eba79cb",
   "metadata": {},
   "outputs": [],
   "source": []
  },
  {
   "cell_type": "code",
   "execution_count": null,
   "id": "a4da8aac",
   "metadata": {},
   "outputs": [],
   "source": []
  }
 ],
 "metadata": {
  "kernelspec": {
   "display_name": "Python 3 (ipykernel)",
   "language": "python",
   "name": "python3"
  },
  "language_info": {
   "codemirror_mode": {
    "name": "ipython",
    "version": 3
   },
   "file_extension": ".py",
   "mimetype": "text/x-python",
   "name": "python",
   "nbconvert_exporter": "python",
   "pygments_lexer": "ipython3",
   "version": "3.9.7"
  }
 },
 "nbformat": 4,
 "nbformat_minor": 5
}
